{
 "cells": [
  {
   "cell_type": "markdown",
   "metadata": {},
   "source": [
    "# Setup Instructions\n",
    "In order to be able to run the Jupyter Notebook in Google Colab you have to run the following code cell.\n",
    "Otherwise you won't be able to use the helper functions as well as importing the necessary preprocessed data.\n",
    "- Clone the GitHub repository:\n",
    "\n",
    "```python\n",
    "!git clone https://github.com/LukasEijk/AdvancedDeepLearning.git\n",
    "\n",
    "\n",
    "import sys\n",
    "sys.path.append('/content/AdvancedDeepLearning/')\n",
    "\n",
    "import os\n",
    "os.chdir('AdvancedDeepLearning')\n",
    "\n",
    "```\n"
   ]
  },
  {
   "cell_type": "code",
   "execution_count": null,
   "metadata": {},
   "outputs": [],
   "source": []
  },
  {
   "cell_type": "markdown",
   "metadata": {},
   "source": [
    "# Jet tagging with transformers"
   ]
  },
  {
   "cell_type": "markdown",
   "metadata": {},
   "source": [
    "Today we will build a transformer network for jet classification."
   ]
  },
  {
   "cell_type": "markdown",
   "metadata": {},
   "source": [
    "Some tips:\n",
    "- you should use the TransformerEncoder class in pytorch\n",
    "- do not use very many encoder layers or a larger model dimension, this will be very heavy to run\n",
    "- do some tests starting with small TransformerEncoders to find something suitable\n",
    "- getting the best performance is not the important thing here, we just want to understand the network\n",
    "- if you have questions/problems, check pytorch documentation and/or forums, or talk to each other\n",
    "- if there's still problems, we can discuss during the tutorial"
   ]
  },
  {
   "cell_type": "markdown",
   "metadata": {},
   "source": [
    "Some interesting papers:\n",
    "- Attention Is All You Need\n",
    "    - https://proceedings.neurips.cc/paper/2017/file/3f5ee243547dee91fbd053c1c4a845aa-Paper.pdf\n",
    "- Symmetries, Safety, and Self-Supervision\n",
    "    - https://arxiv.org/abs/2108.04253\n",
    "- Particle Transformer for Jet Tagging\n",
    "    - https://arxiv.org/abs/2202.03772"
   ]
  },
  {
   "cell_type": "markdown",
   "metadata": {},
   "source": [
    "Outline:\n",
    "- Imports and plotting set-up\n",
    "- Building the dataset\n",
    "    - Preprocessing\n",
    "    - Dataloaders\n",
    "- The self-attention mechanism\n",
    "- Jets and self-attention\n",
    "- The TransformerEncoder\n",
    "- Building a Transformer classifier\n",
    "- Optimising the Transformer classifier\n",
    "- Study the results"
   ]
  },
  {
   "cell_type": "markdown",
   "metadata": {},
   "source": [
    "### Imports"
   ]
  },
  {
   "cell_type": "code",
   "execution_count": 1,
   "metadata": {},
   "outputs": [],
   "source": [
    "import os\n",
    "import sys\n",
    "import random\n",
    "import time\n",
    "import numpy as np\n",
    "import torch\n",
    "from torch.utils.data import Dataset\n",
    "from torch.utils.data import DataLoader\n",
    "from torch import nn\n",
    "from torch.nn import functional as F\n",
    "from torch.nn import Sequential, Linear, ReLU"
   ]
  },
  {
   "cell_type": "markdown",
   "metadata": {},
   "source": [
    "In order to make your life easier we give you some helper functions to use"
   ]
  },
  {
   "cell_type": "code",
   "execution_count": 2,
   "metadata": {},
   "outputs": [],
   "source": [
    "from src.plotting_setup import *\n",
    "from src.dataloader import *"
   ]
  },
  {
   "cell_type": "markdown",
   "metadata": {},
   "source": [
    "## Loading the data"
   ]
  },
  {
   "cell_type": "markdown",
   "metadata": {},
   "source": [
    "We'll be using the top-tagging data, so let's just load them."
   ]
  },
  {
   "cell_type": "code",
   "execution_count": 3,
   "metadata": {},
   "outputs": [],
   "source": [
    "y_train = np.load( \"data/toptagging-short/y_train_short.npy\")\n",
    "y_test = np.load( \"data/toptagging-short/y_test_short.npy\")\n",
    "y_val = np.load( \"data/toptagging-short/y_val_short.npy\")"
   ]
  },
  {
   "cell_type": "markdown",
   "metadata": {},
   "source": [
    "For each jet we'll keep the $50$ constituents with the highest $p_T$, with each constituent consisting of $(p_T,\\eta,\\phi)$.\n",
    "So each constituent in the jet has three features.\n",
    "\n",
    "The z datasets have been already preprocessed for you here. So we just load them in. "
   ]
  },
  {
   "cell_type": "code",
   "execution_count": 4,
   "metadata": {},
   "outputs": [],
   "source": [
    "z_train = np.load('data/z_train.npy')\n",
    "z_val = np.load('data/z_val.npy')\n",
    "z_test = np.load('data/z_test.npy')\n"
   ]
  },
  {
   "cell_type": "code",
   "execution_count": 5,
   "metadata": {},
   "outputs": [
    {
     "name": "stdout",
     "output_type": "stream",
     "text": [
      "Train data shape: (30000, 50, 3)\n",
      "Val data shape: (30000, 50, 3)\n",
      "Test data shape: (30000, 50, 3)\n"
     ]
    }
   ],
   "source": [
    "print( \"Train data shape: \" + str(z_train.shape) )\n",
    "print( \"Val data shape: \" + str(z_val.shape) )\n",
    "print( \"Test data shape: \" + str(z_test.shape) )"
   ]
  },
  {
   "cell_type": "markdown",
   "metadata": {},
   "source": [
    "Now we want to convert all the numpy arrays into `torch.Tensor`s "
   ]
  },
  {
   "cell_type": "code",
   "execution_count": 6,
   "metadata": {},
   "outputs": [],
   "source": [
    "z_train_p = torch.Tensor( z_train )\n",
    "z_val_p = torch.Tensor( z_val )\n",
    "z_test_p = torch.Tensor( z_test )\n",
    "y_train_p = torch.Tensor( y_train )\n",
    "y_val_p = torch.Tensor( y_val )\n",
    "y_test_p = torch.Tensor( y_test )"
   ]
  },
  {
   "cell_type": "markdown",
   "metadata": {},
   "source": [
    "### Dataloaders"
   ]
  },
  {
   "cell_type": "code",
   "execution_count": 7,
   "metadata": {},
   "outputs": [],
   "source": [
    "trn_dataset = topcloud_dataset( z_train_p, y_train_p.unsqueeze(-1) )\n",
    "val_dataset = topcloud_dataset( z_val_p, y_val_p.unsqueeze(-1) )\n",
    "tst_dataset = topcloud_dataset( z_test_p, y_test_p.unsqueeze(-1) )"
   ]
  },
  {
   "cell_type": "code",
   "execution_count": 8,
   "metadata": {},
   "outputs": [],
   "source": [
    "trn_dataloader = DataLoader( trn_dataset, batch_size=64, shuffle=True )\n",
    "val_dataloader = DataLoader( val_dataset, batch_size=64, shuffle=True )\n",
    "tst_dataloader = DataLoader( tst_dataset, batch_size=64, shuffle=True )"
   ]
  },
  {
   "cell_type": "markdown",
   "metadata": {},
   "source": [
    "## The self-attention mechanism"
   ]
  },
  {
   "cell_type": "markdown",
   "metadata": {},
   "source": [
    "The self-attention mechanism takes $N$ input vectors and outputs $N$ vectors.  The output is permutation equivariant, i.e. there is a one-to-one map from each input vector to a single output vector, and if we were to change the ordering of the input vectors, the ordering of the output vectors would change in the same way.  The output vectors aim to provide a better representation of the input data by taking into account interactions between vectors in the input.  The dimension of the input and output vectors are in general different also."
   ]
  },
  {
   "cell_type": "markdown",
   "metadata": {},
   "source": [
    "In the 'Attention Is All You Need' paper they describe attention as:\n",
    "\n",
    "\"An attention function can be described as mapping a query and a set of key-value pairs to an output,\n",
    "where the query, keys, values, and output are all vectors. The output is computed as a weighted sum\n",
    "of the values, where the weight assigned to each value is computed by a compatibility function of the\n",
    "query with the corresponding key.\""
   ]
  },
  {
   "cell_type": "markdown",
   "metadata": {},
   "source": [
    "### Scaled dot-product attention"
   ]
  },
  {
   "cell_type": "markdown",
   "metadata": {},
   "source": [
    "There are many forms of attention, we use the scaled dot-product attention, defined as:\n",
    "\n",
    "$\n",
    "\\text{Attention}(Q,K,V) = \\text{softmax}\\left(\\frac{QK^T}{\\sqrt{d_k}}\\right)V\n",
    "$\n",
    "\n",
    "where $Q$, $K$, and $V$ are the query, key, and value vectors.\n",
    "The query and key vectors have dimension $d_k$ and the value vectors have dimension $d_v$."
   ]
  },
  {
   "cell_type": "markdown",
   "metadata": {},
   "source": [
    "The self-attention mechanism is built using three matrices:\n",
    "- Query matrix\n",
    "- Key matrix\n",
    "- Value matrix\n",
    "\n",
    "They all have dimension ``input_dim`` x ``embed_dim``.\n",
    "In the transformer the parameters of these matrices are learned through back-propagation."
   ]
  },
  {
   "cell_type": "markdown",
   "metadata": {},
   "source": [
    "### Multi-headed self-attention"
   ]
  },
  {
   "cell_type": "markdown",
   "metadata": {},
   "source": [
    "The self-attention mechanism we just described has a single head, i.e. one set of query/key/value matrices to project from the input to the output.  Multi-headed self-attention does the same projection but with multiple sets of query/key/value matrices.  Let's say the embedding dimension we want is 20, and we choose 4 heads.  This means we will have 4 attention-mechanisms, each projecting the input data to a 5 dimensional output.  These outputs are then appended together to produce the 20 dimensional embedding.  When using multi-headed self-attention we need to ensure that the embedding dimension is exactly divisible by the number of heads."
   ]
  },
  {
   "cell_type": "markdown",
   "metadata": {},
   "source": [
    "## Jets and self-attention"
   ]
  },
  {
   "cell_type": "markdown",
   "metadata": {},
   "source": [
    "Jets will have a data dimension of ``noc``x$3$, where ``noc`` is just the number of constituents.  So let's say $50$x$3$ if we restrict to the 50 hardest constituents.\n",
    "\n",
    "This means that the input dimension is $3$."
   ]
  },
  {
   "cell_type": "markdown",
   "metadata": {},
   "source": [
    "### An example"
   ]
  },
  {
   "cell_type": "markdown",
   "metadata": {},
   "source": [
    "Let's create a fake jet with 10 constituents."
   ]
  },
  {
   "cell_type": "code",
   "execution_count": 9,
   "metadata": {},
   "outputs": [],
   "source": [
    "jet = torch.rand( ??? )"
   ]
  },
  {
   "cell_type": "markdown",
   "metadata": {},
   "source": [
    "Let's have a look at `jet`"
   ]
  },
  {
   "cell_type": "code",
   "execution_count": 10,
   "metadata": {},
   "outputs": [
    {
     "data": {
      "text/plain": [
       "tensor([[0.7211, 0.8062, 0.1614],\n",
       "        [0.2621, 0.8041, 0.2880],\n",
       "        [0.8840, 0.8770, 0.3268],\n",
       "        [0.7389, 0.5800, 0.8827],\n",
       "        [0.2412, 0.3718, 0.0795],\n",
       "        [0.4992, 0.0474, 0.9434],\n",
       "        [0.6787, 0.3290, 0.7652],\n",
       "        [0.2458, 0.5002, 0.8293],\n",
       "        [0.3724, 0.1973, 0.4675],\n",
       "        [0.9331, 0.3225, 0.8295]])"
      ]
     },
     "execution_count": 10,
     "metadata": {},
     "output_type": "execute_result"
    }
   ],
   "source": [
    "jet"
   ]
  },
  {
   "cell_type": "markdown",
   "metadata": {},
   "source": [
    "The input dim is obviously 3, and we can define the embed_dim to be whatever we like."
   ]
  },
  {
   "cell_type": "code",
   "execution_count": 11,
   "metadata": {},
   "outputs": [],
   "source": [
    "input_dim = 3\n",
    "embed_dim = ???"
   ]
  },
  {
   "cell_type": "markdown",
   "metadata": {},
   "source": [
    "In practice the query, key, and value matrices consist of learnable parameters that are optimised during training.  But to demonstrate the self-attention mechanism here we will just initialise them randomly.\n",
    "\n",
    "Use `torch.randn()` for doing so."
   ]
  },
  {
   "cell_type": "code",
   "execution_count": 12,
   "metadata": {},
   "outputs": [],
   "source": [
    "w_query = torch.rand( ( input_dim, embed_dim ) )\n",
    "w_key = torch.rand( ( ??? )\n",
    "w_value = torch.rand( ??? )"
   ]
  },
  {
   "cell_type": "markdown",
   "metadata": {},
   "source": [
    "From these matrices we then contruct the queries, keys, and values.\n",
    "\n",
    "To do that multiply `jet` with the randomly initiated Query, Key and Value.\n",
    "\n",
    "Use `torch.einsum(' - write the contraction -', jet, w_...)` if possible. If more convenient to you, `torch.matmul()`also works."
   ]
  },
  {
   "cell_type": "code",
   "execution_count": 13,
   "metadata": {},
   "outputs": [],
   "source": [
    "queries = ???\n",
    "keys = ???\n",
    "values = ???"
   ]
  },
  {
   "cell_type": "markdown",
   "metadata": {},
   "source": [
    "And check it has the correct shape."
   ]
  },
  {
   "cell_type": "code",
   "execution_count": 14,
   "metadata": {},
   "outputs": [
    {
     "data": {
      "text/plain": [
       "torch.Size([10, 5])"
      ]
     },
     "execution_count": 14,
     "metadata": {},
     "output_type": "execute_result"
    }
   ],
   "source": [
    "queries.shape"
   ]
  },
  {
   "cell_type": "markdown",
   "metadata": {},
   "source": [
    "We need the length of the queries vector for the computation, so we save it below."
   ]
  },
  {
   "cell_type": "code",
   "execution_count": 15,
   "metadata": {},
   "outputs": [],
   "source": [
    "dk = torch.Tensor( ??? )"
   ]
  },
  {
   "cell_type": "markdown",
   "metadata": {},
   "source": [
    "We then compute the query-key matrix multiplication."
   ]
  },
  {
   "cell_type": "code",
   "execution_count": 16,
   "metadata": {},
   "outputs": [],
   "source": [
    "qkt =  ???"
   ]
  },
  {
   "cell_type": "code",
   "execution_count": 17,
   "metadata": {},
   "outputs": [
    {
     "data": {
      "text/plain": [
       "torch.Size([10, 10])"
      ]
     },
     "execution_count": 17,
     "metadata": {},
     "output_type": "execute_result"
    }
   ],
   "source": [
    "qkt.shape"
   ]
  },
  {
   "cell_type": "markdown",
   "metadata": {},
   "source": [
    "The attention weights are just the softmax over this matrix, divided by the square root of the query dimension."
   ]
  },
  {
   "cell_type": "code",
   "execution_count": 18,
   "metadata": {},
   "outputs": [],
   "source": [
    "attn = torch.softmax( ??? , dim=-1 )"
   ]
  },
  {
   "cell_type": "markdown",
   "metadata": {},
   "source": [
    "The shape here is 10 by 10, which makes sense because this matrix tells us how much attention each input pays to every other input.  Since we have 10 inputs this should make it 10 by 10."
   ]
  },
  {
   "cell_type": "code",
   "execution_count": 19,
   "metadata": {},
   "outputs": [
    {
     "data": {
      "text/plain": [
       "torch.Size([10, 10])"
      ]
     },
     "execution_count": 19,
     "metadata": {},
     "output_type": "execute_result"
    }
   ],
   "source": [
    "attn.shape"
   ]
  },
  {
   "cell_type": "markdown",
   "metadata": {},
   "source": [
    "The output of the self-attention mechanism is then just the attention matrix multiplied by the values.\n",
    "Same applies, either use `torch.matmul()` or `torch.einsum()`"
   ]
  },
  {
   "cell_type": "code",
   "execution_count": 20,
   "metadata": {},
   "outputs": [
    {
     "data": {
      "text/plain": [
       "tensor([[0.9146, 1.1281, 0.8593, 0.3225, 0.7797],\n",
       "        [0.8897, 1.0979, 0.8392, 0.3155, 0.7636],\n",
       "        [0.9320, 1.1504, 0.8742, 0.3281, 0.7926],\n",
       "        [0.9311, 1.1512, 0.8751, 0.3291, 0.7951],\n",
       "        [0.8634, 1.0645, 0.8167, 0.3071, 0.7443],\n",
       "        [0.8999, 1.1123, 0.8494, 0.3198, 0.7738],\n",
       "        [0.9152, 1.1308, 0.8616, 0.3240, 0.7833],\n",
       "        [0.8965, 1.1081, 0.8464, 0.3187, 0.7711],\n",
       "        [0.8802, 1.0864, 0.8317, 0.3129, 0.7577],\n",
       "        [0.9320, 1.1519, 0.8756, 0.3291, 0.7952]])"
      ]
     },
     "execution_count": 20,
     "metadata": {},
     "output_type": "execute_result"
    }
   ],
   "source": [
    "out =  ???\n",
    "out"
   ]
  },
  {
   "cell_type": "code",
   "execution_count": 21,
   "metadata": {},
   "outputs": [
    {
     "data": {
      "text/plain": [
       "torch.Size([10, 5])"
      ]
     },
     "execution_count": 21,
     "metadata": {},
     "output_type": "execute_result"
    }
   ],
   "source": [
    "out.shape"
   ]
  },
  {
   "cell_type": "markdown",
   "metadata": {},
   "source": [
    "This shape makes sense.  We started with a 10 by 3 input, projecting the input dimension to the embedding dimension."
   ]
  },
  {
   "cell_type": "markdown",
   "metadata": {},
   "source": [
    "This output is also permutation equivariant, i.e. if we change the ordering of the inputs (the constituents in the jet) then the same change will be reflected in the output.\n",
    "\n",
    "To obtain a permutation invariant output we would simply need to sum over dimension zero here."
   ]
  },
  {
   "cell_type": "code",
   "execution_count": 22,
   "metadata": {},
   "outputs": [],
   "source": [
    "inv_out = torch.sum( ??? )"
   ]
  },
  {
   "cell_type": "code",
   "execution_count": 23,
   "metadata": {},
   "outputs": [
    {
     "data": {
      "text/plain": [
       "torch.Size([5])"
      ]
     },
     "execution_count": 23,
     "metadata": {},
     "output_type": "execute_result"
    }
   ],
   "source": [
    "inv_out.shape"
   ]
  },
  {
   "cell_type": "markdown",
   "metadata": {},
   "source": [
    "## The transformer encoder"
   ]
  },
  {
   "cell_type": "markdown",
   "metadata": {},
   "source": [
    "The first layer of a transformer encoder is the embedding layer, it is simply a linear projection of each input to a vector of length ``d_model``.\n",
    "So if we have a jet with 50 constituents and $(p_t,\\eta,\\phi)$ values for each constituent, the embedding layer would project each constituent separately to a vector of length ``d_model``, so that the output of this layer has dimensions 50 by ``d_model``.\n",
    "Note that it is the same linear neural network applied to each constituent in the jet."
   ]
  },
  {
   "cell_type": "markdown",
   "metadata": {},
   "source": [
    "After the embedding the data is passed through a TransformerEncoderLayer, defined in the torch.nn module."
   ]
  },
  {
   "cell_type": "code",
   "execution_count": 24,
   "metadata": {},
   "outputs": [],
   "source": [
    "from torch.nn import TransformerEncoderLayer as TEL"
   ]
  },
  {
   "cell_type": "markdown",
   "metadata": {},
   "source": [
    "The documentation tells us:"
   ]
  },
  {
   "cell_type": "markdown",
   "metadata": {},
   "source": [
    "TransformerEncoderLayer is made up of self-attn and feedforward network. This standard encoder layer is based on the paper “Attention Is All You Need”. Ashish Vaswani, Noam Shazeer, Niki Parmar, Jakob Uszkoreit, Llion Jones, Aidan N Gomez, Lukasz Kaiser, and Illia Polosukhin. 2017. Attention is all you need. In Advances in Neural Information Processing Systems, pages 6000-6010. Users may modify or implement in a different way during application."
   ]
  },
  {
   "cell_type": "markdown",
   "metadata": {},
   "source": [
    "This is kind of vague, but after looking at the code we see that there is a multi-headed self-attention layer followed by a dense neural network.  \n",
    "The dense neural network acts individually on each constituent in the jet and has three layers with dimensions ``(d_model, dim_feedforward, d_model)``.\n",
    "Note also that the TransformerEncoder assumes that the input dimension is the same as the embedding dimension, we'll deal with this later using an embedding layer."
   ]
  },
  {
   "cell_type": "markdown",
   "metadata": {},
   "source": [
    "The parameters we need to initialise a layer are as follows:"
   ]
  },
  {
   "cell_type": "markdown",
   "metadata": {},
   "source": [
    "- d_model – the number of expected features in the input (required).\n",
    "\n",
    "- nhead – the number of heads in the multiheadattention models (required).\n",
    "\n",
    "- dim_feedforward – the dimension of the feedforward network model (default=2048).\n",
    "\n",
    "- dropout – the dropout value (default=0.1).\n",
    "\n",
    "- activation – the activation function of the intermediate layer, can be a string (“relu” or “gelu”) or a unary callable. Default: relu\n",
    "\n",
    "- layer_norm_eps – the eps value in layer normalization components (default=1e-5).\n",
    "\n",
    "- batch_first – If True, then the input and output tensors are provided as (batch, seq, feature). Default: False (seq, batch, feature).\n",
    "\n",
    "- norm_first – if True, layer norm is done prior to attention and feedforward operations, respectivaly. Otherwise it’s done after. Default: False (after)."
   ]
  },
  {
   "cell_type": "markdown",
   "metadata": {},
   "source": [
    "Let's test it:"
   ]
  },
  {
   "cell_type": "code",
   "execution_count": 25,
   "metadata": {},
   "outputs": [],
   "source": [
    "encoder_layer = TEL( d_model=120, nhead=4, batch_first=True, dropout=0.0 )\n",
    "src = torch.rand( 10, 50, 120 )\n",
    "out = encoder_layer( src )"
   ]
  },
  {
   "cell_type": "markdown",
   "metadata": {},
   "source": [
    "This means we have a batch of 10 jets with 50 constituents each and 120 features per jet."
   ]
  },
  {
   "cell_type": "code",
   "execution_count": 26,
   "metadata": {},
   "outputs": [
    {
     "data": {
      "text/plain": [
       "torch.Size([10, 50, 120])"
      ]
     },
     "execution_count": 26,
     "metadata": {},
     "output_type": "execute_result"
    }
   ],
   "source": [
    "out.shape"
   ]
  },
  {
   "cell_type": "markdown",
   "metadata": {},
   "source": [
    "\n",
    "### Permutation Equivariance\n",
    "We can check the permutation equivariance of the output by permuting the constituents in the input and checking the output."
   ]
  },
  {
   "cell_type": "markdown",
   "metadata": {},
   "source": [
    "Permuting the input:"
   ]
  },
  {
   "cell_type": "code",
   "execution_count": 27,
   "metadata": {},
   "outputs": [],
   "source": [
    "src1 = src.detach().clone()"
   ]
  },
  {
   "cell_type": "code",
   "execution_count": 28,
   "metadata": {},
   "outputs": [],
   "source": [
    "src1[:,0] = src[:,1].detach().clone()\n",
    "src1[:,1] = src[:,0].detach().clone()"
   ]
  },
  {
   "cell_type": "markdown",
   "metadata": {},
   "source": [
    "Getting the output and permuting it:"
   ]
  },
  {
   "cell_type": "code",
   "execution_count": 29,
   "metadata": {},
   "outputs": [],
   "source": [
    "out1 = encoder_layer( src1 )"
   ]
  },
  {
   "cell_type": "code",
   "execution_count": 30,
   "metadata": {},
   "outputs": [],
   "source": [
    "out1_perm = out1.detach().clone()\n",
    "\n",
    "out1_perm[:,0] = out1[:,1].detach().clone()\n",
    "out1_perm[:,1] = out1[:,0].detach().clone()"
   ]
  },
  {
   "cell_type": "markdown",
   "metadata": {},
   "source": [
    "There are tiny differences in precision which make a True/False comparison fail.  So instead I'll just check the sum over the absolute difference of the outputs vs the sum over the absolute values in the outputs."
   ]
  },
  {
   "cell_type": "code",
   "execution_count": 31,
   "metadata": {},
   "outputs": [
    {
     "name": "stdout",
     "output_type": "stream",
     "text": [
      "sum over abs output: 49368.22\n",
      "sum over abs permuted output: 49368.22\n",
      "sum over abs diffs: 0.0028665345\n"
     ]
    }
   ],
   "source": [
    "print( \"sum over abs output: \" + str( ( out.abs() ).sum().detach().numpy() ) )\n",
    "print( \"sum over abs permuted output: \" + str( ( out1_perm.abs() ).sum().detach().numpy() ) )\n",
    "print( \"sum over abs diffs: \" + str( ( out1_perm  - out ).abs().sum().detach().numpy() ) )"
   ]
  },
  {
   "cell_type": "markdown",
   "metadata": {},
   "source": [
    "Clearly we have permutation equivariance."
   ]
  },
  {
   "cell_type": "markdown",
   "metadata": {},
   "source": [
    "## Building a transformer classifier\n",
    "In order to complete the `JetTransformer` class complete the second transformer layer `self.transformer_layer_2` such that its output can be fed into a Feed Forward Network called `self.head_network`.\n",
    "\n",
    "Use one layer which go from `embed_dim` down to a single output in the `head_network`. "
   ]
  },
  {
   "cell_type": "code",
   "execution_count": 32,
   "metadata": {},
   "outputs": [],
   "source": [
    "class JetTransformer( torch.nn.Module ):\n",
    "    \n",
    "    def __init__( self, input_dim, embed_dim, num_heads ):\n",
    "        super( JetTransformer, self ).__init__()\n",
    "        \n",
    "        self.lin_embed = nn.Linear( input_dim, embed_dim )\n",
    "        \n",
    "        self.transformer_layer_1 = TEL( d_model=embed_dim, nhead=num_heads, \n",
    "                                     batch_first=True, dropout=0.0, dim_feedforward=embed_dim )\n",
    "        \n",
    "        self.transformer_layer_2 = ??? \n",
    "        \n",
    "        self.head_network = ???\n",
    "                                        \n",
    "    def forward( self, batch ):\n",
    "\n",
    "        x = ???\n",
    "        x = ???\n",
    "        x = ???\n",
    "        x = x.mean( dim=1 )\n",
    "        x = ???\n",
    "\n",
    "        return F.sigmoid( x )"
   ]
  },
  {
   "cell_type": "markdown",
   "metadata": {},
   "source": [
    "Let's test it:"
   ]
  },
  {
   "cell_type": "code",
   "execution_count": 33,
   "metadata": {},
   "outputs": [],
   "source": [
    "JT = JetTransformer( 3, 12, 3 )"
   ]
  },
  {
   "cell_type": "markdown",
   "metadata": {},
   "source": [
    "This means we embed each constituent to a vector of length 12, and pass this through a self-attention machanism with 3 heads."
   ]
  },
  {
   "cell_type": "markdown",
   "metadata": {},
   "source": [
    "Now we test it with a batch of 10 fake jets, each containing 50 constituents."
   ]
  },
  {
   "cell_type": "code",
   "execution_count": 34,
   "metadata": {},
   "outputs": [],
   "source": [
    "jets = torch.rand( ( 10, 50, 3 ) )"
   ]
  },
  {
   "cell_type": "markdown",
   "metadata": {},
   "source": [
    "And we forward pass as follows:"
   ]
  },
  {
   "cell_type": "code",
   "execution_count": 35,
   "metadata": {},
   "outputs": [
    {
     "data": {
      "text/plain": [
       "tensor([[1.],\n",
       "        [1.],\n",
       "        [1.],\n",
       "        [1.],\n",
       "        [1.],\n",
       "        [1.],\n",
       "        [1.],\n",
       "        [1.],\n",
       "        [1.],\n",
       "        [1.]], grad_fn=<SigmoidBackward0>)"
      ]
     },
     "execution_count": 35,
     "metadata": {},
     "output_type": "execute_result"
    }
   ],
   "source": [
    "JT( jets )"
   ]
  },
  {
   "cell_type": "markdown",
   "metadata": {},
   "source": [
    "This makes sense, since we get one classification score per jet."
   ]
  },
  {
   "cell_type": "markdown",
   "metadata": {},
   "source": [
    "## Optimising the transformer classifier\n",
    "To accelerate the training one can use GPU's when available. `cuda`for Nvidia Graphic Cards and `mps` for M1 chips and later from Apple. `mps` is not always giving a great performance improvement. "
   ]
  },
  {
   "cell_type": "code",
   "execution_count": 36,
   "metadata": {},
   "outputs": [
    {
     "name": "stdout",
     "output_type": "stream",
     "text": [
      "Using mps device\n"
     ]
    }
   ],
   "source": [
    "device = \"cuda\" if torch.cuda.is_available() else \"mps\" if torch.backends.mps.is_available() else \"cpu\"\n",
    "print(f\"Using {device} device\")"
   ]
  },
  {
   "cell_type": "markdown",
   "metadata": {},
   "source": [
    "Here we use the same functions we used before."
   ]
  },
  {
   "cell_type": "code",
   "execution_count": 37,
   "metadata": {},
   "outputs": [],
   "source": [
    "loss_fn = nn.BCELoss()"
   ]
  },
  {
   "cell_type": "code",
   "execution_count": 38,
   "metadata": {},
   "outputs": [],
   "source": [
    "from tqdm import tqdm\n",
    "\n",
    "def train_epoch(dataloader, model, loss_fn, optimizer):\n",
    "    size = len(dataloader.dataset)\n",
    "    total_batches = len(dataloader)\n",
    "\n",
    "    # Initialize tqdm progress bar\n",
    "    progress_bar = tqdm(total=total_batches, desc=\"Training\", unit=\"batch\")\n",
    "\n",
    "    for batch, (X, y) in enumerate(dataloader):\n",
    "        X, y = X.to(device), y.to(device)\n",
    "\n",
    "        # pass data through network\n",
    "        pred = model(X)\n",
    "        \n",
    "        # compute loss\n",
    "        loss = loss_fn(pred, y)\n",
    "\n",
    "        # reset gradients in optimizer\n",
    "        optimizer.zero_grad()\n",
    "        \n",
    "        # compute gradients\n",
    "        loss.backward()\n",
    "        \n",
    "        # update weights with optimizer\n",
    "        optimizer.step()\n",
    "        \n",
    "        # Update tqdm progress bar with the current loss\n",
    "        progress_bar.set_postfix(loss=loss.item())\n",
    "        progress_bar.update(1)\n",
    "\n",
    "    # Close the progress bar\n",
    "    progress_bar.close()\n"
   ]
  },
  {
   "cell_type": "code",
   "execution_count": 39,
   "metadata": {},
   "outputs": [],
   "source": [
    "def val_pass( dataloader, model, loss_fn ):\n",
    "    \n",
    "    size = len( dataloader.dataset )\n",
    "    num_batches = len( dataloader )\n",
    "    vl = 0.0\n",
    "\n",
    "    # we don't need gradients here since we only use the forward pass\n",
    "    with torch.no_grad():\n",
    "        for X, y in dataloader:\n",
    "            X, y = X.to(device), y.to(device)\n",
    "            pred = model( X )\n",
    "            vl += loss_fn( pred, y ).item()\n",
    "\n",
    "    vl /= num_batches\n",
    "    print( f\"avg val loss per batch: {vl:>8f}\" )\n",
    "    \n",
    "    return vl\n",
    "\n",
    "def trn_pass( dataloader, model, loss_fn ):\n",
    "    \n",
    "    size = len( dataloader.dataset )\n",
    "    num_batches = len( dataloader )\n",
    "    tl = 0.0\n",
    "\n",
    "    # we don't need gradients here since we only use the forward pass\n",
    "    with torch.no_grad():\n",
    "        for X, y in dataloader:\n",
    "            X, y = X.to(device), y.to(device)\n",
    "            pred = model( X )\n",
    "            tl += loss_fn( pred, y ).item()\n",
    "\n",
    "    tl /= num_batches\n",
    "    print( f\"avg trn loss per batch: {tl:>8f}\" )\n",
    "    \n",
    "    return tl"
   ]
  },
  {
   "cell_type": "code",
   "execution_count": 40,
   "metadata": {
    "scrolled": true
   },
   "outputs": [
    {
     "name": "stdout",
     "output_type": "stream",
     "text": [
      "-----------------------------------------------\n",
      "model architecture \n",
      "-----------------------------------------------\n",
      "JetTransformer(\n",
      "  (lin_embed): Linear(in_features=3, out_features=12, bias=True)\n",
      "  (transformer_layer_1): TransformerEncoderLayer(\n",
      "    (self_attn): MultiheadAttention(\n",
      "      (out_proj): NonDynamicallyQuantizableLinear(in_features=12, out_features=12, bias=True)\n",
      "    )\n",
      "    (linear1): Linear(in_features=12, out_features=12, bias=True)\n",
      "    (dropout): Dropout(p=0.0, inplace=False)\n",
      "    (linear2): Linear(in_features=12, out_features=12, bias=True)\n",
      "    (norm1): LayerNorm((12,), eps=1e-05, elementwise_affine=True)\n",
      "    (norm2): LayerNorm((12,), eps=1e-05, elementwise_affine=True)\n",
      "    (dropout1): Dropout(p=0.0, inplace=False)\n",
      "    (dropout2): Dropout(p=0.0, inplace=False)\n",
      "  )\n",
      "  (transformer_layer_2): TransformerEncoderLayer(\n",
      "    (self_attn): MultiheadAttention(\n",
      "      (out_proj): NonDynamicallyQuantizableLinear(in_features=12, out_features=12, bias=True)\n",
      "    )\n",
      "    (linear1): Linear(in_features=12, out_features=12, bias=True)\n",
      "    (dropout): Dropout(p=0.0, inplace=False)\n",
      "    (linear2): Linear(in_features=12, out_features=12, bias=True)\n",
      "    (norm1): LayerNorm((12,), eps=1e-05, elementwise_affine=True)\n",
      "    (norm2): LayerNorm((12,), eps=1e-05, elementwise_affine=True)\n",
      "    (dropout1): Dropout(p=0.0, inplace=False)\n",
      "    (dropout2): Dropout(p=0.0, inplace=False)\n",
      "  )\n",
      "  (head_network): Linear(in_features=12, out_features=1, bias=True)\n",
      ")\n",
      "-----------------------------------------------\n",
      "Epoch 1\n",
      "-----------------------------------------------\n"
     ]
    },
    {
     "name": "stderr",
     "output_type": "stream",
     "text": [
      "Training: 100%|██████████| 469/469 [00:06<00:00, 71.37batch/s, loss=0.619]\n"
     ]
    },
    {
     "name": "stdout",
     "output_type": "stream",
     "text": [
      "-----------------------------------------------\n",
      "avg trn loss per batch: 0.599919\n",
      "-----------------------------------------------\n",
      "avg val loss per batch: 0.601800\n",
      "-----------------------------------------------\n",
      "|\n",
      "-----------------------------------------------\n",
      "Epoch 2\n",
      "-----------------------------------------------\n"
     ]
    },
    {
     "name": "stderr",
     "output_type": "stream",
     "text": [
      "Training: 100%|██████████| 469/469 [00:06<00:00, 75.76batch/s, loss=0.396]\n"
     ]
    },
    {
     "name": "stdout",
     "output_type": "stream",
     "text": [
      "-----------------------------------------------\n",
      "avg trn loss per batch: 0.529226\n",
      "-----------------------------------------------\n",
      "avg val loss per batch: 0.521570\n",
      "-----------------------------------------------\n",
      "|\n",
      "Done!\n",
      "It took 0.37 minutes to train.\n"
     ]
    }
   ],
   "source": [
    "# a useful function to present things clearer\n",
    "def separator():\n",
    "    print( \"-----------------------------------------------\" )\n",
    "\n",
    "epochs = 2 # was 25 before\n",
    "\n",
    "# re-initialise the model and the optimizer\n",
    "model = JetTransformer( 3, 12, 3 ).to(device)\n",
    "learning_rate = 0.0005\n",
    "optimizer = torch.optim.Adam( model.parameters(), lr=learning_rate )\n",
    "separator()\n",
    "print( \"model architecture \")\n",
    "separator()\n",
    "print( model )\n",
    "\n",
    "# track train and val losses\n",
    "trn_losses = []\n",
    "val_losses = []\n",
    "\n",
    "start = time.time()\n",
    "for t in range(epochs):\n",
    "    separator()\n",
    "    print( f\"Epoch {t+1}\" )\n",
    "    separator()\n",
    "    train_epoch( trn_dataloader, model, loss_fn, optimizer )\n",
    "    separator()\n",
    "    trn_loss = trn_pass( trn_dataloader, model, loss_fn )\n",
    "    trn_losses.append( trn_loss )\n",
    "    separator()\n",
    "    val_loss = val_pass( val_dataloader, model, loss_fn )\n",
    "    val_losses.append( val_loss )\n",
    "    separator()\n",
    "    print( \"|\" )\n",
    "    \n",
    "print(\"Done!\")\n",
    "print(f'It took {np.round((time.time()-start)/60,2)} minutes to train.')"
   ]
  },
  {
   "cell_type": "markdown",
   "metadata": {},
   "source": [
    "## Study the results"
   ]
  },
  {
   "cell_type": "code",
   "execution_count": 41,
   "metadata": {},
   "outputs": [],
   "source": [
    "from src.plotting import *"
   ]
  },
  {
   "cell_type": "markdown",
   "metadata": {},
   "source": [
    "To study the results let's start by looking at the loss functions."
   ]
  },
  {
   "cell_type": "code",
   "execution_count": 42,
   "metadata": {},
   "outputs": [
    {
     "data": {
      "image/png": "[encoded data removed]",
      "text/plain": [
       "<Figure size 700x500 with 1 Axes>"
      ]
     },
     "metadata": {},
     "output_type": "display_data"
    }
   ],
   "source": [
    "plot_loss(trn_losses,val_losses )"
   ]
  },
  {
   "cell_type": "code",
   "execution_count": 43,
   "metadata": {},
   "outputs": [
    {
     "name": "stdout",
     "output_type": "stream",
     "text": [
      "Train Correct: 7313\n",
      "Test Correct: 7181\n",
      "Validation Correct: 7367\n"
     ]
    }
   ],
   "source": [
    "samp_size = 10000\n",
    "\n",
    "# Ensure input data is on the same device as the model\n",
    "z_train_tensor = torch.Tensor(z_train[:samp_size]).to(device)\n",
    "z_test_tensor = torch.Tensor(z_test[:samp_size]).to(device)\n",
    "z_val_tensor = torch.Tensor(z_val[:samp_size]).to(device)\n",
    "\n",
    "train_pred = model(z_train_tensor).detach().cpu()\n",
    "test_pred = model(z_test_tensor).detach().cpu()\n",
    "val_pred = model(z_val_tensor).detach().cpu()\n",
    "\n",
    "train_pred_lab = torch.round(train_pred[:samp_size])\n",
    "test_pred_lab = torch.round(test_pred[:samp_size])\n",
    "val_pred_lab = torch.round(val_pred[:samp_size])\n",
    "\n",
    "train_correct = (np.array(train_pred_lab.squeeze(-1)) == y_train[:samp_size]).sum()\n",
    "test_correct = (np.array(test_pred_lab.squeeze(-1)) == y_test[:samp_size]).sum()\n",
    "val_correct = (np.array(val_pred_lab.squeeze(-1)) == y_val[:samp_size]).sum()\n",
    "\n",
    "print(f\"Train Correct: {train_correct}\")\n",
    "print(f\"Test Correct: {test_correct}\")\n",
    "print(f\"Validation Correct: {val_correct}\")"
   ]
  },
  {
   "cell_type": "code",
   "execution_count": 44,
   "metadata": {
    "scrolled": true
   },
   "outputs": [
    {
     "name": "stdout",
     "output_type": "stream",
     "text": [
      "-----------------------------------------------\n",
      "Evaluation of accuracy: \n",
      "Accuracy on training dataset: 73.1 %\n",
      "Accuracy on validation dataset: 73.7 %\n",
      "Accuracy on test dataset: 71.8 %\n",
      "-----------------------------------------------\n"
     ]
    }
   ],
   "source": [
    "separator()\n",
    "print('Evaluation of accuracy: ')\n",
    "print('Accuracy on training dataset: {:.1f} %'.format(train_correct*100/len(train_pred)))\n",
    "print('Accuracy on validation dataset: {:.1f} %'.format(val_correct*100/len(val_pred)))\n",
    "print('Accuracy on test dataset: {:.1f} %'.format(test_correct*100/len(test_pred)))\n",
    "separator()"
   ]
  },
  {
   "cell_type": "markdown",
   "metadata": {},
   "source": [
    "Looks good!"
   ]
  },
  {
   "cell_type": "code",
   "execution_count": 45,
   "metadata": {},
   "outputs": [
    {
     "data": {
      "image/png": "[encoded data removed]",
      "text/plain": [
       "<Figure size 1400x500 with 2 Axes>"
      ]
     },
     "metadata": {},
     "output_type": "display_data"
    }
   ],
   "source": [
    "plot_roc_and_efficiency_curves(y_test, test_pred, samp_size)"
   ]
  }
 ],
 "metadata": {
  "kernelspec": {
   "display_name": "Python 3",
   "language": "python",
   "name": "python3"
  },
  "language_info": {
   "codemirror_mode": {
    "name": "ipython",
    "version": 3
   },
   "file_extension": ".py",
   "mimetype": "text/x-python",
   "name": "python",
   "nbconvert_exporter": "python",
   "pygments_lexer": "ipython3",
   "version": "3.9.13"
  }
 },
 "nbformat": 4,
 "nbformat_minor": 4
}
